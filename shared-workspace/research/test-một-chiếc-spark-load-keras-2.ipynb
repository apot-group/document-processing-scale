{
 "cells": [
  {
   "cell_type": "markdown",
   "id": "82102f1a-2c7c-4606-a70b-7c145637b290",
   "metadata": {},
   "source": [
    "## Introduction"
   ]
  },
  {
   "cell_type": "markdown",
   "id": "a87e417b-3374-4372-95c8-6c8fb1286bb2",
   "metadata": {},
   "source": [
    "- Tao đang kiểm tra nhẹ làm thế nào để run một chiếc spark load tensorflow model nha mấy bé. \n",
    "\n",
    "- mấy bé thấy hay thì nhớ lài lái lai và sè sé se. và follow github cho tao nha: [Github lè](https://github.com/dnguyenngoc) or [Github group lè](https://github.com/apot-group)"
   ]
  },
  {
   "cell_type": "markdown",
   "id": "6da611d6-3e1e-435e-a4ce-4d52a67679e5",
   "metadata": {},
   "source": [
    "<div class=\"alert alert-block alert-info\">\n",
    "<b>Step 1:</b> Import Libraries\n",
    "</div>"
   ]
  },
  {
   "cell_type": "code",
   "execution_count": 1,
   "id": "0793a226-5c5e-4218-a324-e32c62400097",
   "metadata": {},
   "outputs": [],
   "source": [
    "# Spark Session, Pipeline, Functions, and Metrics\n",
    "from pyspark import SparkContext, SparkConf\n",
    "from pyspark.sql import SQLContext, SparkSession\n",
    "from pyspark.ml import Pipeline\n",
    "import pandas as pd\n",
    "import os\n",
    "\n",
    "os.environ['PYSPARK_SUBMIT_ARGS'] = '--packages org.apache.spark:spark-sql-kafka-0-10_2.12:3.0.2,' \\\n",
    "                                    + 'org.apache.spark:spark-streaming-kafka-0-10_2.12:3.0.2,' \\\n",
    "                                    + 'org.apache.kafka:kafka-clients:3.1.0,org.apache.spark:spark-core_2.12:3.0.2,' \\\n",
    "                                    + 'org.apache.spark:spark-streaming_2.12:3.0.2,' \\\n",
    "                                    + 'org.apache.spark:spark-token-provider-kafka-0-10_2.12:3.0.2,' \\\n",
    "                                    + 'org.apache.hadoop:hadoop-core:1.2.1' \\\n",
    "                                    + ' pyspark-shell'"
   ]
  },
  {
   "cell_type": "markdown",
   "id": "abb7cbeb-7606-4091-af60-dd14dc805ff1",
   "metadata": {},
   "source": [
    "<div class=\"alert alert-block alert-info\">\n",
    "<b>Step 2:</b> Start Spark Session\n",
    "</div>"
   ]
  },
  {
   "cell_type": "code",
   "execution_count": 3,
   "id": "af09b388-3f62-422b-8f99-0aff4c2020e3",
   "metadata": {},
   "outputs": [
    {
     "data": {
      "text/html": [
       "\n",
       "        <div>\n",
       "            <p><b>SparkContext</b></p>\n",
       "\n",
       "            <p><a href=\"http://24897eca24e2:4040\">Spark UI</a></p>\n",
       "\n",
       "            <dl>\n",
       "              <dt>Version</dt>\n",
       "                <dd><code>v3.1.3</code></dd>\n",
       "              <dt>Master</dt>\n",
       "                <dd><code>local[1]</code></dd>\n",
       "              <dt>AppName</dt>\n",
       "                <dd><code>test</code></dd>\n",
       "            </dl>\n",
       "        </div>\n",
       "        "
      ],
      "text/plain": [
       "<SparkContext master=local[1] appName=test>"
      ]
     },
     "execution_count": 3,
     "metadata": {},
     "output_type": "execute_result"
    }
   ],
   "source": [
    "ss  = SparkSession.builder.master('local[1]') \\\n",
    "                  .appName(\"test\") \\\n",
    "                  .config(\"spark.executor.memory\", \"2g\") \\\n",
    "                  .config(\"spark.driver.memory\", \"2g\") \\\n",
    "                  .config(\"spark.executor.cores\", \"2\") \\\n",
    "                  .config(\"spark.driver.cores\", \"2\") \\\n",
    "                  .getOrCreate()\n",
    "sc = ss.sparkContext\n",
    "sc"
   ]
  },
  {
   "cell_type": "markdown",
   "id": "b79a4106-99e2-4c67-80b9-6885f4b18bfa",
   "metadata": {},
   "source": [
    "<div class=\"alert alert-block alert-info\">\n",
    "<b>Step 3:</b> Load tensoflow model\n",
    "</div>"
   ]
  },
  {
   "cell_type": "code",
   "execution_count": 4,
   "id": "ed443ea6-2937-4f9d-979e-4f4a6b266893",
   "metadata": {},
   "outputs": [
    {
     "name": "stderr",
     "output_type": "stream",
     "text": [
      "2022-03-02 16:39:17.669370: W tensorflow/stream_executor/platform/default/dso_loader.cc:64] Could not load dynamic library 'libcudart.so.11.0'; dlerror: libcudart.so.11.0: cannot open shared object file: No such file or directory\n",
      "2022-03-02 16:39:17.669441: I tensorflow/stream_executor/cuda/cudart_stub.cc:29] Ignore above cudart dlerror if you do not have a GPU set up on your machine.\n"
     ]
    }
   ],
   "source": [
    "import tensorflow as tf\n",
    "from tensorflow.keras.applications.resnet50 import ResNet50, preprocess_input\n",
    "from tensorflow.keras.preprocessing.image import img_to_array\n",
    "from pyspark.sql.functions import col, pandas_udf, PandasUDFType"
   ]
  },
  {
   "cell_type": "code",
   "execution_count": null,
   "id": "4b5723a6-5136-42ea-834b-d61b5cb60a7e",
   "metadata": {},
   "outputs": [],
   "source": [
    "images = ss.read.format(\"binaryFile\") \\\n",
    "  .option(\"pathGlobFilter\", \"*.jpg\") \\\n",
    "  .option(\"recursiveFileLookup\", \"true\") \\\n",
    "  .load(\"/work/data/images\")\n",
    "\n",
    "display(images.limit(5))\n"
   ]
  }
 ],
 "metadata": {
  "kernelspec": {
   "display_name": "Python 3 (ipykernel)",
   "language": "python",
   "name": "python3"
  },
  "language_info": {
   "codemirror_mode": {
    "name": "ipython",
    "version": 3
   },
   "file_extension": ".py",
   "mimetype": "text/x-python",
   "name": "python",
   "nbconvert_exporter": "python",
   "pygments_lexer": "ipython3",
   "version": "3.8.5"
  }
 },
 "nbformat": 4,
 "nbformat_minor": 5
}
