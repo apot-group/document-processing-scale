{
 "cells": [
  {
   "cell_type": "markdown",
   "id": "82102f1a-2c7c-4606-a70b-7c145637b290",
   "metadata": {},
   "source": [
    "## Introduction"
   ]
  },
  {
   "cell_type": "markdown",
   "id": "a87e417b-3374-4372-95c8-6c8fb1286bb2",
   "metadata": {},
   "source": [
    "- Tao đang kiểm tra nhẹ làm thế nào để run một chiếc spark load tensorflow model nha mấy bé. \n",
    "\n",
    "- mấy bé thấy hay thì nhớ lài lái lai và sè sé se. và follow github cho tao nha: [Github lè](https://github.com/dnguyenngoc) or [Github group lè](https://github.com/apot-group)"
   ]
  },
  {
   "cell_type": "markdown",
   "id": "6da611d6-3e1e-435e-a4ce-4d52a67679e5",
   "metadata": {},
   "source": [
    "<div class=\"alert alert-block alert-info\">\n",
    "<b>Step 1:</b> Import Libraries\n",
    "</div>"
   ]
  },
  {
   "cell_type": "code",
   "execution_count": 1,
   "id": "0793a226-5c5e-4218-a324-e32c62400097",
   "metadata": {},
   "outputs": [
    {
     "ename": "TypeError",
     "evalue": "bad operand type for unary +: 'str'",
     "output_type": "error",
     "traceback": [
      "\u001b[0;31m---------------------------------------------------------------------------\u001b[0m",
      "\u001b[0;31mTypeError\u001b[0m                                 Traceback (most recent call last)",
      "Input \u001b[0;32mIn [1]\u001b[0m, in \u001b[0;36m<cell line: 8>\u001b[0;34m()\u001b[0m\n\u001b[1;32m      5\u001b[0m \u001b[38;5;28;01mimport\u001b[39;00m \u001b[38;5;21;01mpandas\u001b[39;00m \u001b[38;5;28;01mas\u001b[39;00m \u001b[38;5;21;01mpd\u001b[39;00m\n\u001b[1;32m      6\u001b[0m \u001b[38;5;28;01mimport\u001b[39;00m \u001b[38;5;21;01mos\u001b[39;00m\n\u001b[1;32m      8\u001b[0m os\u001b[38;5;241m.\u001b[39menviron[\u001b[38;5;124m'\u001b[39m\u001b[38;5;124mPYSPARK_SUBMIT_ARGS\u001b[39m\u001b[38;5;124m'\u001b[39m] \u001b[38;5;241m=\u001b[39m \u001b[38;5;124m'\u001b[39m\u001b[38;5;124m--packages org.apache.spark:spark-sql-kafka-0-10_2.12:3.0.2,\u001b[39m\u001b[38;5;124m'\u001b[39m \\\n\u001b[1;32m      9\u001b[0m                                     \u001b[38;5;241m+\u001b[39m \u001b[38;5;124m'\u001b[39m\u001b[38;5;124morg.apache.spark:spark-streaming-kafka-0-10_2.12:3.0.2,\u001b[39m\u001b[38;5;124m'\u001b[39m \\\n\u001b[1;32m     10\u001b[0m                                     \u001b[38;5;241m+\u001b[39m \u001b[38;5;124m'\u001b[39m\u001b[38;5;124morg.apache.kafka:kafka-clients:3.1.0,org.apache.spark:spark-core_2.12:3.0.2,\u001b[39m\u001b[38;5;124m'\u001b[39m \\\n\u001b[1;32m     11\u001b[0m                                     \u001b[38;5;241m+\u001b[39m \u001b[38;5;124m'\u001b[39m\u001b[38;5;124morg.apache.spark:spark-streaming_2.12:3.0.2,\u001b[39m\u001b[38;5;124m'\u001b[39m \\\n\u001b[1;32m     12\u001b[0m                                     \u001b[38;5;241m+\u001b[39m \u001b[38;5;124m'\u001b[39m\u001b[38;5;124morg.apache.spark:spark-token-provider-kafka-0-10_2.12:3.0.2,\u001b[39m\u001b[38;5;124m'\u001b[39m \\\n\u001b[1;32m     13\u001b[0m                                     \u001b[38;5;241m+\u001b[39m \u001b[38;5;124m'\u001b[39m\u001b[38;5;124morg.apache.hadoop:hadoop-core:1.2.1\u001b[39m\u001b[38;5;124m'\u001b[39m, \\\n\u001b[0;32m---> 14\u001b[0m                                     \u001b[38;5;241;43m+\u001b[39;49m\u001b[43m \u001b[49m\u001b[38;5;124;43m'\u001b[39;49m\u001b[38;5;124;43morg.tensorflow:tensorflow-lite:2.8.0\u001b[39;49m\u001b[38;5;124;43m'\u001b[39;49m \\\n\u001b[1;32m     15\u001b[0m                                     \u001b[38;5;241m+\u001b[39m \u001b[38;5;124m'\u001b[39m\u001b[38;5;124m pyspark-shell\u001b[39m\u001b[38;5;124m'\u001b[39m\n",
      "\u001b[0;31mTypeError\u001b[0m: bad operand type for unary +: 'str'"
     ]
    }
   ],
   "source": [
    "# Spark Session, Pipeline, Functions, and Metrics\n",
    "from pyspark import SparkContext, SparkConf\n",
    "from pyspark.sql import SQLContext, SparkSession\n",
    "from pyspark.ml import Pipeline\n",
    "import pandas as pd\n",
    "import os\n",
    "\n",
    "os.environ['PYSPARK_SUBMIT_ARGS'] = '--packages org.apache.spark:spark-sql-kafka-0-10_2.12:3.0.2,' \\\n",
    "                                    + 'org.apache.spark:spark-streaming-kafka-0-10_2.12:3.0.2,' \\\n",
    "                                    + 'org.apache.kafka:kafka-clients:3.1.0,org.apache.spark:spark-core_2.12:3.0.2,' \\\n",
    "                                    + 'org.apache.spark:spark-streaming_2.12:3.0.2,' \\\n",
    "                                    + 'org.apache.spark:spark-token-provider-kafka-0-10_2.12:3.0.2,' \\\n",
    "                                    + 'org.apache.hadoop:hadoop-core:1.2.1,' \\\n",
    "                                    + 'org.tensorflow:tensorflow-lite:2.8.0' \\\n",
    "                                    + ' pyspark-shell'"
   ]
  },
  {
   "cell_type": "markdown",
   "id": "abb7cbeb-7606-4091-af60-dd14dc805ff1",
   "metadata": {},
   "source": [
    "<div class=\"alert alert-block alert-info\">\n",
    "<b>Step 2:</b> Start Spark Session\n",
    "</div>"
   ]
  },
  {
   "cell_type": "code",
   "execution_count": 6,
   "id": "af09b388-3f62-422b-8f99-0aff4c2020e3",
   "metadata": {},
   "outputs": [
    {
     "data": {
      "text/html": [
       "\n",
       "            <div>\n",
       "                <p><b>SparkSession - in-memory</b></p>\n",
       "                \n",
       "        <div>\n",
       "            <p><b>SparkContext</b></p>\n",
       "\n",
       "            <p><a href=\"http://5a36dd2aff00:4040\">Spark UI</a></p>\n",
       "\n",
       "            <dl>\n",
       "              <dt>Version</dt>\n",
       "                <dd><code>v3.2.1</code></dd>\n",
       "              <dt>Master</dt>\n",
       "                <dd><code>local[1]</code></dd>\n",
       "              <dt>AppName</dt>\n",
       "                <dd><code>test</code></dd>\n",
       "            </dl>\n",
       "        </div>\n",
       "        \n",
       "            </div>\n",
       "        "
      ],
      "text/plain": [
       "<pyspark.sql.session.SparkSession at 0x7f82a670e970>"
      ]
     },
     "execution_count": 6,
     "metadata": {},
     "output_type": "execute_result"
    }
   ],
   "source": [
    "ss  = SparkSession.builder.master('local[1]') \\\n",
    "                  .appName(\"test\") \\\n",
    "                  .config(\"spark.executor.memory\", \"2g\") \\\n",
    "                  .config(\"spark.driver.memory\", \"2g\") \\\n",
    "                  .config(\"spark.executor.cores\", \"2\") \\\n",
    "                  .config(\"spark.driver.cores\", \"2\") \\\n",
    "                  .getOrCreate()\n",
    "ss"
   ]
  },
  {
   "cell_type": "markdown",
   "id": "b79a4106-99e2-4c67-80b9-6885f4b18bfa",
   "metadata": {},
   "source": [
    "<div class=\"alert alert-block alert-info\">\n",
    "<b>Step 3:</b> Load tensoflow model\n",
    "</div>"
   ]
  },
  {
   "cell_type": "code",
   "execution_count": null,
   "id": "52cc717e-3bbe-43d6-b171-84f0fbf51add",
   "metadata": {},
   "outputs": [],
   "source": []
  }
 ],
 "metadata": {
  "kernelspec": {
   "display_name": "Python 3 (ipykernel)",
   "language": "python",
   "name": "python3"
  },
  "language_info": {
   "codemirror_mode": {
    "name": "ipython",
    "version": 3
   },
   "file_extension": ".py",
   "mimetype": "text/x-python",
   "name": "python",
   "nbconvert_exporter": "python",
   "pygments_lexer": "ipython3",
   "version": "3.8.5"
  }
 },
 "nbformat": 4,
 "nbformat_minor": 5
}
