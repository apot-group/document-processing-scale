{
 "cells": [
  {
   "cell_type": "markdown",
   "id": "82102f1a-2c7c-4606-a70b-7c145637b290",
   "metadata": {},
   "source": [
    "## Introduction"
   ]
  },
  {
   "cell_type": "markdown",
   "id": "a87e417b-3374-4372-95c8-6c8fb1286bb2",
   "metadata": {},
   "source": [
    "- Tao đang kiểm tra nhẹ làm thế nào để run một chiếc spark load tensorflow model nha mấy bé. \n",
    "\n",
    "- mấy bé thấy hay thì nhớ lài lái lai và sè sé se. và follow github cho tao nha: [Github lè](https://github.com/dnguyenngoc) or [Github group lè](https://github.com/apot-group)"
   ]
  },
  {
   "cell_type": "markdown",
   "id": "6da611d6-3e1e-435e-a4ce-4d52a67679e5",
   "metadata": {},
   "source": [
    "<div class=\"alert alert-block alert-info\">\n",
    "<b>Step 1:</b> Import Libraries\n",
    "</div>"
   ]
  },
  {
   "cell_type": "code",
   "execution_count": 9,
   "id": "0793a226-5c5e-4218-a324-e32c62400097",
   "metadata": {},
   "outputs": [],
   "source": [
    "# Spark Session, Pipeline, Functions, and Metrics\n",
    "from pyspark import SparkContext, SparkConf\n",
    "from pyspark.sql import SQLContext, SparkSession\n",
    "from pyspark.ml import Pipeline\n",
    "import pandas as pd\n",
    "import os\n",
    "\n",
    "os.environ['PYSPARK_SUBMIT_ARGS'] = '--packages org.apache.spark:spark-sql-kafka-0-10_2.12:3.0.2,' \\\n",
    "                                    + 'org.apache.spark:spark-streaming-kafka-0-10_2.12:3.0.2,' \\\n",
    "                                    + 'org.apache.kafka:kafka-clients:3.1.0,org.apache.spark:spark-core_2.12:3.0.2,' \\\n",
    "                                    + 'org.apache.spark:spark-streaming_2.12:3.0.2,' \\\n",
    "                                    + 'org.apache.spark:spark-token-provider-kafka-0-10_2.12:3.0.2,' \\\n",
    "                                    + 'org.apache.hadoop:hadoop-core:1.2.1,' \\\n",
    "                                    + 'org.tensorflow:tensorflow-lite:2.8.0' \\\n",
    "                                    + ' pyspark-shell'"
   ]
  },
  {
   "cell_type": "markdown",
   "id": "abb7cbeb-7606-4091-af60-dd14dc805ff1",
   "metadata": {},
   "source": [
    "<div class=\"alert alert-block alert-info\">\n",
    "<b>Step 2:</b> Start Spark Session\n",
    "</div>"
   ]
  },
  {
   "cell_type": "code",
   "execution_count": 10,
   "id": "af09b388-3f62-422b-8f99-0aff4c2020e3",
   "metadata": {},
   "outputs": [
    {
     "data": {
      "text/html": [
       "\n",
       "            <div>\n",
       "                <p><b>SparkSession - in-memory</b></p>\n",
       "                \n",
       "        <div>\n",
       "            <p><b>SparkContext</b></p>\n",
       "\n",
       "            <p><a href=\"http://5a36dd2aff00:4040\">Spark UI</a></p>\n",
       "\n",
       "            <dl>\n",
       "              <dt>Version</dt>\n",
       "                <dd><code>v3.2.1</code></dd>\n",
       "              <dt>Master</dt>\n",
       "                <dd><code>local[1]</code></dd>\n",
       "              <dt>AppName</dt>\n",
       "                <dd><code>test</code></dd>\n",
       "            </dl>\n",
       "        </div>\n",
       "        \n",
       "            </div>\n",
       "        "
      ],
      "text/plain": [
       "<pyspark.sql.session.SparkSession at 0x7f2e083e1e80>"
      ]
     },
     "execution_count": 10,
     "metadata": {},
     "output_type": "execute_result"
    }
   ],
   "source": [
    "ss  = SparkSession.builder.master('local[1]') \\\n",
    "                  .appName(\"test\") \\\n",
    "                  .config(\"spark.executor.memory\", \"2g\") \\\n",
    "                  .config(\"spark.driver.memory\", \"2g\") \\\n",
    "                  .config(\"spark.executor.cores\", \"2\") \\\n",
    "                  .config(\"spark.driver.cores\", \"2\") \\\n",
    "                  .getOrCreate()\n",
    "ss"
   ]
  },
  {
   "cell_type": "markdown",
   "id": "b79a4106-99e2-4c67-80b9-6885f4b18bfa",
   "metadata": {},
   "source": [
    "<div class=\"alert alert-block alert-info\">\n",
    "<b>Step 3:</b> Load tensoflow model\n",
    "</div>"
   ]
  },
  {
   "cell_type": "code",
   "execution_count": 12,
   "id": "52cc717e-3bbe-43d6-b171-84f0fbf51add",
   "metadata": {},
   "outputs": [],
   "source": [
    "zero_df = ss.read.format(\"image\").load('/work/data/images/')"
   ]
  },
  {
   "cell_type": "code",
   "execution_count": 14,
   "id": "9bdb94c3-5160-4055-8a10-0ce8d7b81d9f",
   "metadata": {},
   "outputs": [
    {
     "name": "stderr",
     "output_type": "stream",
     "text": [
      "                                                                                \r"
     ]
    },
    {
     "name": "stdout",
     "output_type": "stream",
     "text": [
      "+--------------------+\n",
      "|               image|\n",
      "+--------------------+\n",
      "|{file:///work/dat...|\n",
      "|{file:///work/dat...|\n",
      "|{file:///work/dat...|\n",
      "|{file:///work/dat...|\n",
      "|{file:///work/dat...|\n",
      "|{file:///work/dat...|\n",
      "|{file:///work/dat...|\n",
      "|{file:///work/dat...|\n",
      "|{file:///work/dat...|\n",
      "+--------------------+\n",
      "\n"
     ]
    }
   ],
   "source": [
    "zero_df.show()"
   ]
  },
  {
   "cell_type": "code",
   "execution_count": null,
   "id": "70b1a5d0-ce25-411b-814b-81918ece55a5",
   "metadata": {},
   "outputs": [
    {
     "name": "stdout",
     "output_type": "stream",
     "text": [
      "Collecting tensorflow\n",
      "  Downloading tensorflow-2.8.0-cp38-cp38-manylinux2010_x86_64.whl (497.6 MB)\n",
      "\u001b[K     |██▍                             | 37.2 MB 141 kB/s eta 0:54:11     |█▏                              | 17.3 MB 833 kB/s eta 0:09:37     |█▋                              | 25.6 MB 233 kB/s eta 0:33:42     |██▎                             | 35.8 MB 680 kB/s eta 0:11:19     |██▎                             | 35.9 MB 680 kB/s eta 0:11:19     |██▍                             | 36.4 MB 333 kB/s eta 0:23:02"
     ]
    }
   ],
   "source": [
    "!pip3 install tensorflow\n",
    "from tensorflow.keras.models import Sequential\n",
    "from tensorflow.keras.layers import Dense, Dropout, Activation\n",
    "from tensorflow.keras.optimizers import SGD\n",
    "model = Sequential()\n",
    "model.add(Dense(128, input_dim=784))\n",
    "model.add(Activation('relu'))\n",
    "model.add(Dropout(0.2))\n",
    "model.add(Dense(128))\n",
    "model.add(Activation('relu'))\n",
    "model.add(Dropout(0.2))\n",
    "model.add(Dense(10))\n",
    "model.add(Activation('softmax'))\n",
    "model.compile(loss='categorical_crossentropy', optimizer=SGD())"
   ]
  },
  {
   "cell_type": "code",
   "execution_count": null,
   "id": "a17d2eeb-7359-4b29-93e7-fd026c28fb30",
   "metadata": {},
   "outputs": [],
   "source": []
  }
 ],
 "metadata": {
  "kernelspec": {
   "display_name": "Python 3 (ipykernel)",
   "language": "python",
   "name": "python3"
  },
  "language_info": {
   "codemirror_mode": {
    "name": "ipython",
    "version": 3
   },
   "file_extension": ".py",
   "mimetype": "text/x-python",
   "name": "python",
   "nbconvert_exporter": "python",
   "pygments_lexer": "ipython3",
   "version": "3.8.5"
  }
 },
 "nbformat": 4,
 "nbformat_minor": 5
}
