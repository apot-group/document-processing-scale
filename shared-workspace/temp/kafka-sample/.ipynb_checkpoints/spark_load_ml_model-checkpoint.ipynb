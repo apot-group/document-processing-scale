{
 "cells": [
  {
   "cell_type": "code",
   "execution_count": 1,
   "id": "8120107b-de91-4b2f-a5f6-353e7fd36e7d",
   "metadata": {},
   "outputs": [],
   "source": [
    "# necessary import \n",
    "from pyspark.sql import SparkSession\n",
    "from pyspark.ml.image import ImageSchema\n",
    "from pyspark.sql.functions import lit\n",
    "from functools import reduce\n",
    "from pyspark.sql.types import *\n",
    "from pyspark.sql.functions import *\n",
    "from pyspark import SparkFiles"
   ]
  },
  {
   "cell_type": "code",
   "execution_count": 2,
   "id": "a365bf6c-5425-4068-b7e2-6dfa2dc49a0b",
   "metadata": {},
   "outputs": [],
   "source": [
    "spark  = SparkSession.builder\n",
    "                      .master(\"spark://spark-master:7077\")\n",
    "                      .getOrCreate()\n",
    "spark.conf.set(\"spark.executor.memory\", '4g')\n",
    "spark.conf.set('spark.executor.cores', '2')\n",
    "spark.conf.set('spark.cores.max', '2')\n",
    "spark.conf.set(\"spark.driver.memory\",'4g')"
   ]
  },
  {
   "cell_type": "code",
   "execution_count": 3,
   "id": "08cfe718-59ff-40a2-aee0-824f63af3a7f",
   "metadata": {},
   "outputs": [
    {
     "data": {
      "text/html": [
       "\n",
       "            <div>\n",
       "                <p><b>SparkSession - in-memory</b></p>\n",
       "                \n",
       "        <div>\n",
       "            <p><b>SparkContext</b></p>\n",
       "\n",
       "            <p><a href=\"http://2ffe5885153d:4040\">Spark UI</a></p>\n",
       "\n",
       "            <dl>\n",
       "              <dt>Version</dt>\n",
       "                <dd><code>v3.2.1</code></dd>\n",
       "              <dt>Master</dt>\n",
       "                <dd><code>spark://spark-master:7077</code></dd>\n",
       "              <dt>AppName</dt>\n",
       "                <dd><code>RealTimeML_kafka-sample</code></dd>\n",
       "            </dl>\n",
       "        </div>\n",
       "        \n",
       "            </div>\n",
       "        "
      ],
      "text/plain": [
       "<pyspark.sql.session.SparkSession at 0x7f9a783babb0>"
      ]
     },
     "execution_count": 3,
     "metadata": {},
     "output_type": "execute_result"
    }
   ],
   "source": [
    "sc = SparkContext(master=\"spark://spark-master:7077\", appName=\"RealTimeML_kafka-sample\")"
   ]
  },
  {
   "cell_type": "code",
   "execution_count": 4,
   "id": "a1dbab74-b534-4d9a-895e-3602244ad539",
   "metadata": {},
   "outputs": [
    {
     "data": {
      "text/plain": [
       "'/tmp/spark-0f6d7156-a480-49a9-82f0-51349bc7e297/userFiles-4273c9e0-17df-439e-98f2-2b099554f47d'"
      ]
     },
     "execution_count": 4,
     "metadata": {},
     "output_type": "execute_result"
    }
   ],
   "source": [
    "SparkFiles.getRootDirectory()"
   ]
  },
  {
   "cell_type": "code",
   "execution_count": null,
   "id": "955d1c8c-2432-431b-bfb8-62440a4da2d9",
   "metadata": {},
   "outputs": [],
   "source": [
    "textFile = ss.read.text(\"./README.md\")\n",
    "textFile.count()"
   ]
  },
  {
   "cell_type": "code",
   "execution_count": null,
   "id": "d102a093-445f-448e-a8fb-ba837936e12d",
   "metadata": {},
   "outputs": [],
   "source": [
    "df = ss.read.format(\"image\").option(\"dropInvalid\", True).load(\"./data/\")\n",
    "df.select(\"image.origin\", \"image.width\", \"image.height\").show(truncate=False)"
   ]
  }
 ],
 "metadata": {
  "kernelspec": {
   "display_name": "Python 3 (ipykernel)",
   "language": "python",
   "name": "python3"
  },
  "language_info": {
   "codemirror_mode": {
    "name": "ipython",
    "version": 3
   },
   "file_extension": ".py",
   "mimetype": "text/x-python",
   "name": "python",
   "nbconvert_exporter": "python",
   "pygments_lexer": "ipython3",
   "version": "3.9.10"
  }
 },
 "nbformat": 4,
 "nbformat_minor": 5
}
